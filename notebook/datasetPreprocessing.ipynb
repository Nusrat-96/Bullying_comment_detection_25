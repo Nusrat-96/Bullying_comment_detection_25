{
 "cells": [
  {
   "cell_type": "code",
   "execution_count": 1,
   "id": "7bf5f67c",
   "metadata": {},
   "outputs": [],
   "source": [
    "import pandas as pd\n",
    "import numpy as np\n",
    "import string\n",
    "import emoji\n",
    "import emojis\n",
    "from string import punctuation\n",
    "from collections import Counter\n",
    "import re\n",
    "import os"
   ]
  },
  {
   "cell_type": "code",
   "execution_count": 2,
   "id": "2762b7d7",
   "metadata": {},
   "outputs": [
    {
     "data": {
      "text/plain": [
       "'/home/nusrat/bullying_detection/notebook'"
      ]
     },
     "execution_count": 2,
     "metadata": {},
     "output_type": "execute_result"
    }
   ],
   "source": [
    "\n",
    "#os.chdir('D:\\\\dataset\\\\new_data')\n",
    "os.getcwd()"
   ]
  },
  {
   "cell_type": "code",
   "execution_count": 9,
   "id": "a147ffa9",
   "metadata": {},
   "outputs": [
    {
     "data": {
      "text/html": [
       "<div>\n",
       "<style scoped>\n",
       "    .dataframe tbody tr th:only-of-type {\n",
       "        vertical-align: middle;\n",
       "    }\n",
       "\n",
       "    .dataframe tbody tr th {\n",
       "        vertical-align: top;\n",
       "    }\n",
       "\n",
       "    .dataframe thead th {\n",
       "        text-align: right;\n",
       "    }\n",
       "</style>\n",
       "<table border=\"1\" class=\"dataframe\">\n",
       "  <thead>\n",
       "    <tr style=\"text-align: right;\">\n",
       "      <th></th>\n",
       "      <th>comments</th>\n",
       "      <th>likes</th>\n",
       "      <th>Related_to_post</th>\n",
       "      <th>Bsentiment</th>\n",
       "      <th>label</th>\n",
       "    </tr>\n",
       "  </thead>\n",
       "  <tbody>\n",
       "    <tr>\n",
       "      <th>0</th>\n",
       "      <td>this problem of flood which i consider to be a...</td>\n",
       "      <td>0</td>\n",
       "      <td>1</td>\n",
       "      <td>Supportive</td>\n",
       "      <td>Nonbullying</td>\n",
       "    </tr>\n",
       "    <tr>\n",
       "      <th>1</th>\n",
       "      <td>may god bless all and rescue all from this sit...</td>\n",
       "      <td>0</td>\n",
       "      <td>1</td>\n",
       "      <td>Supportive</td>\n",
       "      <td>Nonbullying</td>\n",
       "    </tr>\n",
       "    <tr>\n",
       "      <th>2</th>\n",
       "      <td>আল্লা পাক তুমি সবাই হেফাজত করুন</td>\n",
       "      <td>0</td>\n",
       "      <td>1</td>\n",
       "      <td>Supportive</td>\n",
       "      <td>Nonbullying</td>\n",
       "    </tr>\n",
       "    <tr>\n",
       "      <th>3</th>\n",
       "      <td>may god bless all</td>\n",
       "      <td>0</td>\n",
       "      <td>1</td>\n",
       "      <td>Supportive</td>\n",
       "      <td>Nonbullying</td>\n",
       "    </tr>\n",
       "    <tr>\n",
       "      <th>4</th>\n",
       "      <td>nirhiyo manusher upor attyachar korle  echara ...</td>\n",
       "      <td>0</td>\n",
       "      <td>1</td>\n",
       "      <td>Supportive</td>\n",
       "      <td>Nonbullying</td>\n",
       "    </tr>\n",
       "  </tbody>\n",
       "</table>\n",
       "</div>"
      ],
      "text/plain": [
       "                                            comments  likes  Related_to_post  \\\n",
       "0  this problem of flood which i consider to be a...      0                1   \n",
       "1  may god bless all and rescue all from this sit...      0                1   \n",
       "2                    আল্লা পাক তুমি সবাই হেফাজত করুন      0                1   \n",
       "3                                  may god bless all      0                1   \n",
       "4  nirhiyo manusher upor attyachar korle  echara ...      0                1   \n",
       "\n",
       "   Bsentiment        label  \n",
       "0  Supportive  Nonbullying  \n",
       "1  Supportive  Nonbullying  \n",
       "2  Supportive  Nonbullying  \n",
       "3  Supportive  Nonbullying  \n",
       "4  Supportive  Nonbullying  "
      ]
     },
     "execution_count": 9,
     "metadata": {},
     "output_type": "execute_result"
    }
   ],
   "source": [
    "spcolumn = [\"comments\", \"likes\", \"label\", \"Bsentiment\", \"Related_to_post\"]\n",
    "#corpus = pd.read_csv(\"added data new 500.csv\", usecols=spcolumn)\n",
    "corpus = pd.read_csv(\"data/data_set_2025.csv\", usecols=spcolumn)\n",
    "\n",
    "corpus[\"comments\"]= corpus['comments'].astype(str)\n",
    "corpus.head()"
   ]
  },
  {
   "cell_type": "code",
   "execution_count": 10,
   "id": "2ff1305b",
   "metadata": {},
   "outputs": [
    {
     "name": "stdout",
     "output_type": "stream",
     "text": [
      "Total Comments:1863 \n",
      "label\n",
      "Bullying       766\n",
      "Nonbullying    712\n",
      "Neutral        385\n",
      "Name: count, dtype: int64\n",
      "Bsentiment\n",
      "Normal_comment    438\n",
      "Abusive           388\n",
      "Aggressive        385\n",
      "Supportive        215\n",
      "Sad               205\n",
      "Happy             139\n",
      "Meaningless        93\n",
      "Name: count, dtype: int64\n"
     ]
    },
    {
     "data": {
      "text/plain": [
       "<Axes: xlabel='Bsentiment'>"
      ]
     },
     "execution_count": 10,
     "metadata": {},
     "output_type": "execute_result"
    },
    {
     "data": {
      "image/png": "[encoded data removed]",
      "text/plain": [
       "<Figure size 640x480 with 1 Axes>"
      ]
     },
     "metadata": {},
     "output_type": "display_data"
    }
   ],
   "source": [
    "print (\"Total Comments:{} \".format(len(corpus)))\n",
    "print(corpus['label'].value_counts())\n",
    "print(corpus['Bsentiment'].value_counts())\n",
    "corpus['Bsentiment'].value_counts().plot.bar()"
   ]
  },
  {
   "cell_type": "code",
   "execution_count": 11,
   "id": "607acdfe",
   "metadata": {},
   "outputs": [
    {
     "data": {
      "text/plain": [
       "comments           0\n",
       "likes              0\n",
       "Related_to_post    0\n",
       "Bsentiment         0\n",
       "label              0\n",
       "dtype: int64"
      ]
     },
     "execution_count": 11,
     "metadata": {},
     "output_type": "execute_result"
    }
   ],
   "source": [
    "corpus.isna().sum()"
   ]
  },
  {
   "cell_type": "code",
   "execution_count": null,
   "id": "27bcc8b3",
   "metadata": {},
   "outputs": [],
   "source": []
  },
  {
   "cell_type": "code",
   "execution_count": 10,
   "id": "8b59a232",
   "metadata": {},
   "outputs": [],
   "source": [
    "#data preprocessing\n",
    "def data_preprocessing(comment):\n",
    "    comment_lower = str(comment.lower())\n",
    "    url = re.compile(r'https?://\\S+|www.\\\\S+')\n",
    "    comment_extract_url = url.sub(r'', comment_lower)\n",
    "    return comment_extract_url                \n",
    "\n",
    "#emoji count\n",
    "def emoji_count(comment):\n",
    "    emo = emojis.count(comment)\n",
    "    return emo\n",
    "\n",
    "\n",
    "#punctuation count\n",
    "def punctuation_number(comment):\n",
    "    punctuation_counts = 0\n",
    "    for i in comment:\n",
    "        if i in string.punctuation:\n",
    "            punctuation_counts = punctuation_counts+1\n",
    "    return punctuation_counts\n",
    "\n",
    "\n",
    "#remove puctuation\n",
    "def remove_punc(comments):\n",
    "    comment = str(comments)\n",
    "    punctuations = '''()-[]{};:\"',<>./?@#$%^*_~\\n\\r'''\n",
    "    no_punc = \"\"\n",
    "    for char in comment:\n",
    "        if char not in punctuations:\n",
    "            no_punc=no_punc+char\n",
    "    return no_punc\n"
   ]
  },
  {
   "cell_type": "code",
   "execution_count": 11,
   "id": "9be1f884",
   "metadata": {},
   "outputs": [],
   "source": [
    "corpus['url_extract'] = corpus['comments'].apply(lambda comment:data_preprocessing(comment))\n",
    "corpus['punc_number'] = corpus['url_extract'].apply(lambda comment: punctuation_number(comment))\n",
    "corpus['emoji_number'] = corpus['comments'].apply(lambda comment:emoji_count(comment))\n",
    "corpus['process_comments'] = corpus['url_extract'].apply(lambda comment: remove_punc(comment))"
   ]
  },
  {
   "cell_type": "code",
   "execution_count": 12,
   "id": "27fc7c4b",
   "metadata": {},
   "outputs": [
    {
     "data": {
      "text/html": [
       "<div>\n",
       "<style scoped>\n",
       "    .dataframe tbody tr th:only-of-type {\n",
       "        vertical-align: middle;\n",
       "    }\n",
       "\n",
       "    .dataframe tbody tr th {\n",
       "        vertical-align: top;\n",
       "    }\n",
       "\n",
       "    .dataframe thead th {\n",
       "        text-align: right;\n",
       "    }\n",
       "</style>\n",
       "<table border=\"1\" class=\"dataframe\">\n",
       "  <thead>\n",
       "    <tr style=\"text-align: right;\">\n",
       "      <th></th>\n",
       "      <th>comments</th>\n",
       "      <th>likes</th>\n",
       "      <th>label</th>\n",
       "      <th>Bsentiment</th>\n",
       "      <th>Related_to_post</th>\n",
       "      <th>url_extract</th>\n",
       "      <th>punc_number</th>\n",
       "      <th>emoji_number</th>\n",
       "      <th>process_comments</th>\n",
       "    </tr>\n",
       "  </thead>\n",
       "  <tbody>\n",
       "    <tr>\n",
       "      <th>28</th>\n",
       "      <td>borka gayer mohilar ovhinoy ta darun hoiche</td>\n",
       "      <td>28</td>\n",
       "      <td>Nonbullying</td>\n",
       "      <td>Supportive</td>\n",
       "      <td>1.0</td>\n",
       "      <td>borka gayer mohilar ovhinoy ta darun hoiche</td>\n",
       "      <td>0</td>\n",
       "      <td>0</td>\n",
       "      <td>borka gayer mohilar ovhinoy ta darun hoiche</td>\n",
       "    </tr>\n",
       "  </tbody>\n",
       "</table>\n",
       "</div>"
      ],
      "text/plain": [
       "                                       comments  likes        label  \\\n",
       "28  borka gayer mohilar ovhinoy ta darun hoiche     28  Nonbullying   \n",
       "\n",
       "    Bsentiment  Related_to_post                                  url_extract  \\\n",
       "28  Supportive              1.0  borka gayer mohilar ovhinoy ta darun hoiche   \n",
       "\n",
       "    punc_number  emoji_number                             process_comments  \n",
       "28            0             0  borka gayer mohilar ovhinoy ta darun hoiche  "
      ]
     },
     "execution_count": 12,
     "metadata": {},
     "output_type": "execute_result"
    }
   ],
   "source": [
    "corpus.loc[[28]]\n"
   ]
  },
  {
   "cell_type": "code",
   "execution_count": 17,
   "id": "65474e4b",
   "metadata": {},
   "outputs": [
    {
     "name": "stdout",
     "output_type": "stream",
     "text": [
      "0      vaiar mto neta bangladesher sob jelay thakle d...\n",
      "1       sabash ostad ! bangldesh tomake chay imraner mto\n",
      "2                     mashrafi vai k allah rohomot korun\n",
      "3      ai manush ta k prodhanmontri howar shujug dewa...\n",
      "4      ekta neta emon howa dorkar  mashrafi neta howa...\n",
      "                             ...                        \n",
      "97     vai vul apnk ke dhorte boleseata vul naancholi...\n",
      "98                     তুমি কি হেতো পারো।তুমার বুল অয় না\n",
      "99     sotti bolti oni lekha pora kora naiuneducated man\n",
      "100    ak ta manos jokhon valo kaj kora sata bad deya...\n",
      "101             oi sumondhi  tui paris je ato vul dhoris\n",
      "Name: spell_correct_with_emo, Length: 102, dtype: object\n"
     ]
    }
   ],
   "source": [
    "#spelling correction from comment with emo, \n",
    "#from corpus['url_extracted']\n",
    "#will use it for vader sentiment analyze\n",
    "def dictionary():\n",
    "    myfile = open (\"data/bangla_spelling_correction_dectionary.txt\") \n",
    "    d = { } \n",
    "    for line in myfile: \n",
    "        x = line.strip().split(\"\\t\") \n",
    "        key, values = x[0], x[2:] \n",
    "        d.setdefault(key, []).extend(values)\n",
    "    return d\n",
    "\n",
    "\n",
    "# def splell_correction(comment):\n",
    "    \n",
    "dictionary_tb = dictionary()\n",
    "listOfItems = list(dictionary_tb.items())\n",
    "\n",
    "#creat a list of the dictionary values\n",
    "dictt_values=list(dictionary_tb.values())\n",
    "listn=[]\n",
    "for i in range (len(dictt_values)):\n",
    "    for j in range (len(dictt_values[i])):\n",
    "        listn.append(dictt_values[i][j])\n",
    "        \n",
    "def find_in_list(word):\n",
    "    if word in listn:\n",
    "        return True\n",
    "    else:\n",
    "        return False\n",
    "\n",
    "def getKeysByValue(valueToFind):\n",
    "    z=find_in_list(valueToFind)\n",
    "    if z== True:\n",
    "        for item  in listOfItems:\n",
    "            for items in item:\n",
    "                for i in range (len(items)):\n",
    "                    if items[i] == valueToFind:\n",
    "                        return item[0]\n",
    "    else:\n",
    "        return valueToFind\n",
    "                              \n",
    "                \n",
    "        \n",
    "           \n",
    "def pass_comment(comments):\n",
    "    comment= comments\n",
    "    for word in comment:\n",
    "        word=str(word)\n",
    "        listOfKeys = str(getKeysByValue(word))\n",
    "        for i in range(len(comment)):\n",
    "            if comment[i]==word:\n",
    "                comment[i]=listOfKeys\n",
    "    return ' '.join(map(str, comment))      #map(function, iteration)\n",
    "    #print (comment)\n",
    "\n",
    "\n",
    "\n",
    "    \n",
    "        \n",
    "# comment='Nick doctor magi'\n",
    "# words = comment.strip().split(\" \")\n",
    "# print(words)\n",
    "# pass_comment(words)\n",
    "\n",
    "corpus['token1']=(corpus['process_comments'].apply(lambda comment: comment.strip().split(\" \")))\n",
    "corpus['spell_correct_with_emo'] = corpus['token1'].apply(lambda comment: pass_comment(comment))\n",
    "\n",
    "print(corpus.spell_correct_with_emo)\n"
   ]
  },
  {
   "cell_type": "code",
   "execution_count": 18,
   "id": "a3ed464f",
   "metadata": {},
   "outputs": [
    {
     "data": {
      "text/html": [
       "<div>\n",
       "<style scoped>\n",
       "    .dataframe tbody tr th:only-of-type {\n",
       "        vertical-align: middle;\n",
       "    }\n",
       "\n",
       "    .dataframe tbody tr th {\n",
       "        vertical-align: top;\n",
       "    }\n",
       "\n",
       "    .dataframe thead th {\n",
       "        text-align: right;\n",
       "    }\n",
       "</style>\n",
       "<table border=\"1\" class=\"dataframe\">\n",
       "  <thead>\n",
       "    <tr style=\"text-align: right;\">\n",
       "      <th></th>\n",
       "      <th>comments</th>\n",
       "      <th>likes</th>\n",
       "      <th>label</th>\n",
       "      <th>Bsentiment</th>\n",
       "      <th>Related_to_post</th>\n",
       "      <th>url_extract</th>\n",
       "      <th>punc_number</th>\n",
       "      <th>emoji_number</th>\n",
       "      <th>process_comments</th>\n",
       "      <th>token1</th>\n",
       "      <th>spell_correct_with_emo</th>\n",
       "    </tr>\n",
       "  </thead>\n",
       "  <tbody>\n",
       "    <tr>\n",
       "      <th>28</th>\n",
       "      <td>borka gayer mohilar ovhinoy ta darun hoiche</td>\n",
       "      <td>28</td>\n",
       "      <td>Nonbullying</td>\n",
       "      <td>Supportive</td>\n",
       "      <td>1.0</td>\n",
       "      <td>borka gayer mohilar ovhinoy ta darun hoiche</td>\n",
       "      <td>0</td>\n",
       "      <td>0</td>\n",
       "      <td>borka gayer mohilar ovhinoy ta darun hoiche</td>\n",
       "      <td>[borka, gayer, mohilar, ovhinoy, ta, darun, ho...</td>\n",
       "      <td>borka gayer mohilar ovhinoy ta darun hoiche</td>\n",
       "    </tr>\n",
       "  </tbody>\n",
       "</table>\n",
       "</div>"
      ],
      "text/plain": [
       "                                       comments  likes        label  \\\n",
       "28  borka gayer mohilar ovhinoy ta darun hoiche     28  Nonbullying   \n",
       "\n",
       "    Bsentiment  Related_to_post                                  url_extract  \\\n",
       "28  Supportive              1.0  borka gayer mohilar ovhinoy ta darun hoiche   \n",
       "\n",
       "    punc_number  emoji_number                             process_comments  \\\n",
       "28            0             0  borka gayer mohilar ovhinoy ta darun hoiche   \n",
       "\n",
       "                                               token1  \\\n",
       "28  [borka, gayer, mohilar, ovhinoy, ta, darun, ho...   \n",
       "\n",
       "                         spell_correct_with_emo  \n",
       "28  borka gayer mohilar ovhinoy ta darun hoiche  "
      ]
     },
     "execution_count": 18,
     "metadata": {},
     "output_type": "execute_result"
    }
   ],
   "source": [
    "corpus.loc[[28]]"
   ]
  },
  {
   "cell_type": "code",
   "execution_count": null,
   "id": "ada525cb",
   "metadata": {},
   "outputs": [],
   "source": []
  },
  {
   "cell_type": "code",
   "execution_count": 19,
   "id": "f306d18f",
   "metadata": {},
   "outputs": [
    {
     "data": {
      "text/html": [
       "<div>\n",
       "<style scoped>\n",
       "    .dataframe tbody tr th:only-of-type {\n",
       "        vertical-align: middle;\n",
       "    }\n",
       "\n",
       "    .dataframe tbody tr th {\n",
       "        vertical-align: top;\n",
       "    }\n",
       "\n",
       "    .dataframe thead th {\n",
       "        text-align: right;\n",
       "    }\n",
       "</style>\n",
       "<table border=\"1\" class=\"dataframe\">\n",
       "  <thead>\n",
       "    <tr style=\"text-align: right;\">\n",
       "      <th></th>\n",
       "      <th>comments</th>\n",
       "      <th>likes</th>\n",
       "      <th>label</th>\n",
       "      <th>Bsentiment</th>\n",
       "      <th>Related_to_post</th>\n",
       "      <th>url_extract</th>\n",
       "      <th>punc_number</th>\n",
       "      <th>emoji_number</th>\n",
       "      <th>process_comments</th>\n",
       "      <th>token1</th>\n",
       "      <th>spell_correct_with_emo</th>\n",
       "      <th>spell_correct_without_emo</th>\n",
       "    </tr>\n",
       "  </thead>\n",
       "  <tbody>\n",
       "    <tr>\n",
       "      <th>1</th>\n",
       "      <td>sabash ostad ! Bangldesh tomake chay imraner mto</td>\n",
       "      <td>0</td>\n",
       "      <td>Nonbullying</td>\n",
       "      <td>Supportive</td>\n",
       "      <td>1.0</td>\n",
       "      <td>sabash ostad ! bangldesh tomake chay imraner mto</td>\n",
       "      <td>1</td>\n",
       "      <td>0</td>\n",
       "      <td>sabash ostad ! bangldesh tomake chay imraner mto</td>\n",
       "      <td>[sabash, ostad, !, bangldesh, tomake, chay, im...</td>\n",
       "      <td>sabash ostad ! bangldesh tomake chay imraner mto</td>\n",
       "      <td>sabash ostad ! bangldesh tomake chay imraner mto</td>\n",
       "    </tr>\n",
       "  </tbody>\n",
       "</table>\n",
       "</div>"
      ],
      "text/plain": [
       "                                           comments  likes        label  \\\n",
       "1  sabash ostad ! Bangldesh tomake chay imraner mto      0  Nonbullying   \n",
       "\n",
       "   Bsentiment  Related_to_post  \\\n",
       "1  Supportive              1.0   \n",
       "\n",
       "                                        url_extract  punc_number  \\\n",
       "1  sabash ostad ! bangldesh tomake chay imraner mto            1   \n",
       "\n",
       "   emoji_number                                  process_comments  \\\n",
       "1             0  sabash ostad ! bangldesh tomake chay imraner mto   \n",
       "\n",
       "                                              token1  \\\n",
       "1  [sabash, ostad, !, bangldesh, tomake, chay, im...   \n",
       "\n",
       "                             spell_correct_with_emo  \\\n",
       "1  sabash ostad ! bangldesh tomake chay imraner mto   \n",
       "\n",
       "                          spell_correct_without_emo  \n",
       "1  sabash ostad ! bangldesh tomake chay imraner mto  "
      ]
     },
     "execution_count": 19,
     "metadata": {},
     "output_type": "execute_result"
    }
   ],
   "source": [
    "corpus['process_comments']=corpus['process_comments'].astype(str)\n",
    "def remove_emoji(comment):\n",
    "                                                        #return emoji.demojize(comment) #convert emoji to text\n",
    "    return emoji.replace_emoji(comment, replace='') \n",
    "\n",
    "corpus[\"spell_correct_without_emo\"]= corpus['spell_correct_with_emo'].apply(lambda comment: remove_emoji(comment))\n",
    "corpus.loc[[1]]\n"
   ]
  },
  {
   "cell_type": "code",
   "execution_count": 21,
   "id": "f8ff94fe",
   "metadata": {},
   "outputs": [
    {
     "name": "stdout",
     "output_type": "stream",
     "text": [
      "0      0\n",
      "1      0\n",
      "2      0\n",
      "3      0\n",
      "4      0\n",
      "      ..\n",
      "97     0\n",
      "98     0\n",
      "99     0\n",
      "100    0\n",
      "101    0\n",
      "Name: abusive_word_number, Length: 102, dtype: int64\n"
     ]
    }
   ],
   "source": [
    "#covert abusive word text file to list \n",
    "with open('data/bengali_swear_word.txt','r',encoding=\"utf8\") as f:\n",
    "    listabusive=[]\n",
    "    for line in f:\n",
    "        strip_lines=line.strip()\n",
    "        listli=strip_lines.split(\"\\t\")\n",
    "\n",
    "        for i in range (len(listli)):\n",
    "            m=listabusive.append(listli[i])\n",
    "\n",
    "    listabusiveSet = set(listabusive)\n",
    "    \n",
    "\n",
    "#count abusive word            \n",
    "def abusive_word_number(comment):\n",
    "    comment = comment.strip()  #remove leading and ending whitespace\n",
    "    comment=re.sub(' +', ' ',  comment)  #replace multiple whitespace\n",
    "    comment=comment.split(' ') #convert string to list \n",
    "    \n",
    "    save=[]\n",
    "    for w in listabusiveSet:\n",
    "        for word in comment:\n",
    "            if w==word:\n",
    "                save.append(word)\n",
    "    return len(save)\n",
    "\n",
    "\n",
    "corpus['abusive_word_number']=corpus['spell_correct_without_emo'].apply(lambda comment: abusive_word_number(comment))\n",
    "print(corpus.abusive_word_number)"
   ]
  },
  {
   "cell_type": "code",
   "execution_count": 22,
   "id": "c0184e01",
   "metadata": {},
   "outputs": [
    {
     "name": "stdout",
     "output_type": "stream",
     "text": [
      "0      0\n",
      "1      0\n",
      "2      0\n",
      "3      0\n",
      "4      0\n",
      "      ..\n",
      "97     1\n",
      "98     0\n",
      "99     0\n",
      "100    1\n",
      "101    0\n",
      "Name: positive_word_number, Length: 102, dtype: int64\n"
     ]
    }
   ],
   "source": [
    "\n",
    "\n",
    "with open('data/Bengali_positive_word.txt','r', encoding=\"utf8\") as f:\n",
    "    listPositive=[]\n",
    "    for line in f:\n",
    "        strip_lines=line.strip()\n",
    "        listlp=strip_lines.split(\"\\t\")\n",
    "\n",
    "        for i in range (len(listlp)):\n",
    "            m=listPositive.append(listlp[i])\n",
    "    listPositiveSet = set (listPositive)\n",
    "    \n",
    "#count positive word            \n",
    "def positive_word_number(comment):\n",
    "    comment = comment.strip()  #remove leading and ending whitespace\n",
    "    comment=re.sub(' +', ' ',  comment)  #replace multiple whitespace\n",
    "    comment=comment.split(' ') #convert string to list \n",
    "    save=[]\n",
    "    for w in listPositiveSet:\n",
    "        for word in comment:\n",
    "            if w==word:\n",
    "                save.append(word)\n",
    "    return len(save)\n",
    "\n",
    "corpus['positive_word_number']=corpus['spell_correct_with_emo'].apply(lambda comment: positive_word_number(comment))\n",
    "print(corpus.positive_word_number)"
   ]
  },
  {
   "cell_type": "code",
   "execution_count": 24,
   "id": "67b5a775",
   "metadata": {},
   "outputs": [],
   "source": [
    "columns_name=['comments','process_comments','spell_correct_with_emo','spell_correct_without_emo','likes','Related_to_post','punc_number','emoji_number','abusive_word_number', 'positive_word_number', 'Bsentiment','label']\n",
    "corpus.to_csv('data_after_cleaning.csv', index=False, columns=columns_name)"
   ]
  },
  {
   "cell_type": "code",
   "execution_count": null,
   "id": "dbbd85d0",
   "metadata": {},
   "outputs": [],
   "source": []
  },
  {
   "cell_type": "code",
   "execution_count": null,
   "id": "1136b5a1",
   "metadata": {},
   "outputs": [],
   "source": [
    "spcolumn = [\"comments\", \"likes\", \"label\", \"Bsentiment\", \"Related_to_post\"]\n",
    "corpus2 = pd.read_csv(\"cyber_comment_train.csv\", usecols=spcolumn)\n",
    "corpus2[\"comments\"]= corpus2['comments'].astype(str)\n"
   ]
  },
  {
   "cell_type": "code",
   "execution_count": null,
   "id": "3ea2f193",
   "metadata": {},
   "outputs": [],
   "source": [
    "print (len(corpus2))\n",
    "print(corpus2['label'].value_counts())\n",
    "print(corpus2['Bsentiment'].value_counts())\n",
    "corpus2['Bsentiment'].value_counts().plot.bar()\n"
   ]
  },
  {
   "cell_type": "code",
   "execution_count": null,
   "id": "d6b82d9e",
   "metadata": {},
   "outputs": [],
   "source": [
    "\n",
    "import numpy as np \n",
    "import matplotlib.pyplot as plt \n",
    "  \n",
    "\n",
    "barWidth = 0.25\n",
    "fig = plt.subplots(figsize =(12, 8))\n",
    "    \n",
    "X = ['Sexually Abusive','Sad','Aggressive','Happy','Religiously Abusive','Normal', 'Supportive', 'Meaningless']\n",
    "Ytraining = [261, 247, 246, 171,134,91,68,29]\n",
    "Ztesting = [77, 65, 57, 54, 45,39,30,13]\n",
    "  \n",
    "X_axis = np.arange(len(X))\n",
    "\n",
    "br1 = np.arange(len(Ytraining))\n",
    "br2 = [x + barWidth for x in br1]\n",
    "br3 = [x + barWidth for x in br2]\n",
    " \n",
    "# Make the plot\n",
    "plt.bar(br1, Ytraining, color ='b', width = barWidth,\n",
    "        edgecolor ='grey', label ='Training')\n",
    "plt.bar(br2, Ztesting, color ='g', width = barWidth,\n",
    "        edgecolor ='grey', label ='Testing')\n",
    "\n",
    "  \n",
    "plt.xticks([r + barWidth for r in range(len(Ytraining ))], X)\n",
    " \n",
    "plt.xlabel(\"Sentiment Class\", fontweight ='bold', fontsize = 15)\n",
    "plt.ylabel(\"Number of Comments\", fontweight ='bold', fontsize = 15)\n",
    "plt.title(\"Number of Comments in each class\")\n",
    "\n",
    "plt.legend()\n",
    "plt.show()"
   ]
  },
  {
   "cell_type": "code",
   "execution_count": null,
   "id": "44898095",
   "metadata": {},
   "outputs": [],
   "source": []
  },
  {
   "cell_type": "code",
   "execution_count": null,
   "id": "04046e99",
   "metadata": {},
   "outputs": [],
   "source": []
  },
  {
   "cell_type": "code",
   "execution_count": null,
   "id": "733a2a7c",
   "metadata": {},
   "outputs": [],
   "source": []
  },
  {
   "cell_type": "code",
   "execution_count": null,
   "id": "196a0518",
   "metadata": {},
   "outputs": [],
   "source": []
  },
  {
   "cell_type": "code",
   "execution_count": null,
   "id": "276e2324",
   "metadata": {},
   "outputs": [],
   "source": []
  }
 ],
 "metadata": {
  "kernelspec": {
   "display_name": "venv_",
   "language": "python",
   "name": "python3"
  },
  "language_info": {
   "codemirror_mode": {
    "name": "ipython",
    "version": 3
   },
   "file_extension": ".py",
   "mimetype": "text/x-python",
   "name": "python",
   "nbconvert_exporter": "python",
   "pygments_lexer": "ipython3",
   "version": "3.12.3"
  }
 },
 "nbformat": 4,
 "nbformat_minor": 5
}
